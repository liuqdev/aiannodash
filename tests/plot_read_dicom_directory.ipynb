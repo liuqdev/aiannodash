{
 "cells": [
  {
   "cell_type": "code",
   "execution_count": null,
   "metadata": {
    "collapsed": false,
    "jupyter": {
     "outputs_hidden": false
    }
   },
   "outputs": [],
   "source": [
    "%matplotlib inline"
   ]
  },
  {
   "cell_type": "markdown",
   "metadata": {},
   "source": [
    "\n",
    "# Read DICOM directory\n",
    "\n",
    "\n",
    "This example shows how to read DICOM directory.\n"
   ]
  },
  {
   "cell_type": "code",
   "execution_count": 1,
   "metadata": {},
   "outputs": [
    {
     "name": "stdout",
     "output_type": "stream",
     "text": [
      "Path to the DICOM directory: C:\\Users\\qi\\miniconda3\\envs\\py37\\lib\\site-packages\\pydicom\\data\\test_files\\dicomdirtests\\DICOMDIR\n",
      "Patient: 77654033: Doe^Archibald\n",
      "    Study 2: 20010101: XR C Spine Comp Min 4 Views\n",
      "        Series 1: CR: N/A (1 image)\n",
      "            Reading images...\n",
      "\n",
      "            Image filenames:\n",
      "             [           'C:\\\\Users\\\\qi\\\\miniconda3\\\\envs\\\\py37\\\\lib\\\\site-packages\\\\pydicom\\\\data\\\\test_files\\\\dicomdirtests\\\\77654033\\\\CR1\\\\6154']\n",
      "            Patient Names in images..: {'Doe^Archibald'}\n",
      "            Patient IDs in images..: {'77654033'}\n",
      "        Series 2: CR: N/A (1 image)\n",
      "            Reading images...\n",
      "\n",
      "            Image filenames:\n",
      "             [           'C:\\\\Users\\\\qi\\\\miniconda3\\\\envs\\\\py37\\\\lib\\\\site-packages\\\\pydicom\\\\data\\\\test_files\\\\dicomdirtests\\\\77654033\\\\CR2\\\\6247']\n",
      "            Patient Names in images..: {'Doe^Archibald'}\n",
      "            Patient IDs in images..: {'77654033'}\n",
      "        Series 3: CR: N/A (1 image)\n",
      "            Reading images...\n",
      "\n",
      "            Image filenames:\n",
      "             [           'C:\\\\Users\\\\qi\\\\miniconda3\\\\envs\\\\py37\\\\lib\\\\site-packages\\\\pydicom\\\\data\\\\test_files\\\\dicomdirtests\\\\77654033\\\\CR3\\\\6278']\n",
      "            Patient Names in images..: {'Doe^Archibald'}\n",
      "            Patient IDs in images..: {'77654033'}\n",
      "    Study 2: 19950903: CT, HEAD/BRAIN WO CONTRAST\n",
      "        Series 2: CT: N/A (4 images)\n",
      "            Reading images...\n",
      "\n",
      "            Image filenames:\n",
      "             [           'C:\\\\Users\\\\qi\\\\miniconda3\\\\envs\\\\py37\\\\lib\\\\site-packages\\\\pydicom\\\\data\\\\test_files\\\\dicomdirtests\\\\77654033\\\\CT2\\\\17106',\n",
      "            'C:\\\\Users\\\\qi\\\\miniconda3\\\\envs\\\\py37\\\\lib\\\\site-packages\\\\pydicom\\\\data\\\\test_files\\\\dicomdirtests\\\\77654033\\\\CT2\\\\17136',\n",
      "            'C:\\\\Users\\\\qi\\\\miniconda3\\\\envs\\\\py37\\\\lib\\\\site-packages\\\\pydicom\\\\data\\\\test_files\\\\dicomdirtests\\\\77654033\\\\CT2\\\\17166',\n",
      "            'C:\\\\Users\\\\qi\\\\miniconda3\\\\envs\\\\py37\\\\lib\\\\site-packages\\\\pydicom\\\\data\\\\test_files\\\\dicomdirtests\\\\77654033\\\\CT2\\\\17196']\n",
      "            Patient Names in images..: {'Doe^Archibald'}\n",
      "            Patient IDs in images..: {'77654033'}\n",
      "Patient: 98890234: Doe^Peter\n",
      "    Study 2: 20010101: \n",
      "        Series 4: CT: N/A (2 images)\n",
      "            Reading images...\n",
      "\n",
      "            Image filenames:\n",
      "             [           'C:\\\\Users\\\\qi\\\\miniconda3\\\\envs\\\\py37\\\\lib\\\\site-packages\\\\pydicom\\\\data\\\\test_files\\\\dicomdirtests\\\\98892001\\\\CT2N\\\\6293',\n",
      "            'C:\\\\Users\\\\qi\\\\miniconda3\\\\envs\\\\py37\\\\lib\\\\site-packages\\\\pydicom\\\\data\\\\test_files\\\\dicomdirtests\\\\98892001\\\\CT2N\\\\6924']\n",
      "            Patient Names in images..: {'Doe^Peter'}\n",
      "            Patient IDs in images..: {'98890234'}\n",
      "        Series 5: CT: N/A (5 images)\n",
      "            Reading images...\n",
      "\n",
      "            Image filenames:\n",
      "             [           'C:\\\\Users\\\\qi\\\\miniconda3\\\\envs\\\\py37\\\\lib\\\\site-packages\\\\pydicom\\\\data\\\\test_files\\\\dicomdirtests\\\\98892001\\\\CT5N\\\\2062',\n",
      "            'C:\\\\Users\\\\qi\\\\miniconda3\\\\envs\\\\py37\\\\lib\\\\site-packages\\\\pydicom\\\\data\\\\test_files\\\\dicomdirtests\\\\98892001\\\\CT5N\\\\2392',\n",
      "            'C:\\\\Users\\\\qi\\\\miniconda3\\\\envs\\\\py37\\\\lib\\\\site-packages\\\\pydicom\\\\data\\\\test_files\\\\dicomdirtests\\\\98892001\\\\CT5N\\\\2693',\n",
      "            'C:\\\\Users\\\\qi\\\\miniconda3\\\\envs\\\\py37\\\\lib\\\\site-packages\\\\pydicom\\\\data\\\\test_files\\\\dicomdirtests\\\\98892001\\\\CT5N\\\\3023',\n",
      "            'C:\\\\Users\\\\qi\\\\miniconda3\\\\envs\\\\py37\\\\lib\\\\site-packages\\\\pydicom\\\\data\\\\test_files\\\\dicomdirtests\\\\98892001\\\\CT5N\\\\3353']\n",
      "            Patient Names in images..: {'Doe^Peter'}\n",
      "            Patient IDs in images..: {'98890234'}\n",
      "    Study 428: 20030505: Carotids\n",
      "        Series 1: MR: N/A (1 image)\n",
      "            Reading images...\n",
      "\n",
      "            Image filenames:\n",
      "             [           'C:\\\\Users\\\\qi\\\\miniconda3\\\\envs\\\\py37\\\\lib\\\\site-packages\\\\pydicom\\\\data\\\\test_files\\\\dicomdirtests\\\\98892003\\\\MR1\\\\15820']\n",
      "            Patient Names in images..: {'Doe^Peter'}\n",
      "            Patient IDs in images..: {'98890234'}\n",
      "        Series 2: MR: N/A (1 image)\n",
      "            Reading images...\n",
      "\n",
      "            Image filenames:\n",
      "             [           'C:\\\\Users\\\\qi\\\\miniconda3\\\\envs\\\\py37\\\\lib\\\\site-packages\\\\pydicom\\\\data\\\\test_files\\\\dicomdirtests\\\\98892003\\\\MR2\\\\15970']\n",
      "            Patient Names in images..: {'Doe^Peter'}\n",
      "            Patient IDs in images..: {'98890234'}\n",
      "    Study 134: 20030505: Brain\n",
      "        Series 1: MR: N/A (1 image)\n",
      "            Reading images...\n",
      "\n",
      "            Image filenames:\n",
      "             [           'C:\\\\Users\\\\qi\\\\miniconda3\\\\envs\\\\py37\\\\lib\\\\site-packages\\\\pydicom\\\\data\\\\test_files\\\\dicomdirtests\\\\98892003\\\\MR1\\\\4919']\n",
      "            Patient Names in images..: {'Doe^Peter'}\n",
      "            Patient IDs in images..: {'98890234'}\n",
      "        Series 2: MR: N/A (3 images)\n",
      "            Reading images...\n",
      "\n",
      "            Image filenames:\n",
      "             [           'C:\\\\Users\\\\qi\\\\miniconda3\\\\envs\\\\py37\\\\lib\\\\site-packages\\\\pydicom\\\\data\\\\test_files\\\\dicomdirtests\\\\98892003\\\\MR2\\\\4950',\n",
      "            'C:\\\\Users\\\\qi\\\\miniconda3\\\\envs\\\\py37\\\\lib\\\\site-packages\\\\pydicom\\\\data\\\\test_files\\\\dicomdirtests\\\\98892003\\\\MR2\\\\5011',\n",
      "            'C:\\\\Users\\\\qi\\\\miniconda3\\\\envs\\\\py37\\\\lib\\\\site-packages\\\\pydicom\\\\data\\\\test_files\\\\dicomdirtests\\\\98892003\\\\MR2\\\\4981']\n",
      "            Patient Names in images..: {'Doe^Peter'}\n",
      "            Patient IDs in images..: {'98890234'}\n",
      "    Study 2: 20030505: Brain-MRA\n",
      "        Series 1: MR: N/A (1 image)\n",
      "            Reading images...\n",
      "\n",
      "            Image filenames:\n",
      "             [           'C:\\\\Users\\\\qi\\\\miniconda3\\\\envs\\\\py37\\\\lib\\\\site-packages\\\\pydicom\\\\data\\\\test_files\\\\dicomdirtests\\\\98892003\\\\MR1\\\\5641']\n",
      "            Patient Names in images..: {'Doe^Peter'}\n",
      "            Patient IDs in images..: {'98890234'}\n",
      "        Series 2: MR: N/A (3 images)\n",
      "            Reading images...\n",
      "\n",
      "            Image filenames:\n",
      "             [           'C:\\\\Users\\\\qi\\\\miniconda3\\\\envs\\\\py37\\\\lib\\\\site-packages\\\\pydicom\\\\data\\\\test_files\\\\dicomdirtests\\\\98892003\\\\MR2\\\\6935',\n",
      "            'C:\\\\Users\\\\qi\\\\miniconda3\\\\envs\\\\py37\\\\lib\\\\site-packages\\\\pydicom\\\\data\\\\test_files\\\\dicomdirtests\\\\98892003\\\\MR2\\\\6605',\n",
      "            'C:\\\\Users\\\\qi\\\\miniconda3\\\\envs\\\\py37\\\\lib\\\\site-packages\\\\pydicom\\\\data\\\\test_files\\\\dicomdirtests\\\\98892003\\\\MR2\\\\6273']\n",
      "            Patient Names in images..: {'Doe^Peter'}\n",
      "            Patient IDs in images..: {'98890234'}\n",
      "        Series 700: MR: N/A (7 images)\n",
      "            Reading images...\n",
      "\n",
      "            Image filenames:\n",
      "             [           'C:\\\\Users\\\\qi\\\\miniconda3\\\\envs\\\\py37\\\\lib\\\\site-packages\\\\pydicom\\\\data\\\\test_files\\\\dicomdirtests\\\\98892003\\\\MR700\\\\4558',\n",
      "            'C:\\\\Users\\\\qi\\\\miniconda3\\\\envs\\\\py37\\\\lib\\\\site-packages\\\\pydicom\\\\data\\\\test_files\\\\dicomdirtests\\\\98892003\\\\MR700\\\\4528',\n",
      "            'C:\\\\Users\\\\qi\\\\miniconda3\\\\envs\\\\py37\\\\lib\\\\site-packages\\\\pydicom\\\\data\\\\test_files\\\\dicomdirtests\\\\98892003\\\\MR700\\\\4588',\n",
      "            'C:\\\\Users\\\\qi\\\\miniconda3\\\\envs\\\\py37\\\\lib\\\\site-packages\\\\pydicom\\\\data\\\\test_files\\\\dicomdirtests\\\\98892003\\\\MR700\\\\4467',\n",
      "            'C:\\\\Users\\\\qi\\\\miniconda3\\\\envs\\\\py37\\\\lib\\\\site-packages\\\\pydicom\\\\data\\\\test_files\\\\dicomdirtests\\\\98892003\\\\MR700\\\\4618',\n",
      "            'C:\\\\Users\\\\qi\\\\miniconda3\\\\envs\\\\py37\\\\lib\\\\site-packages\\\\pydicom\\\\data\\\\test_files\\\\dicomdirtests\\\\98892003\\\\MR700\\\\4678',\n",
      "            'C:\\\\Users\\\\qi\\\\miniconda3\\\\envs\\\\py37\\\\lib\\\\site-packages\\\\pydicom\\\\data\\\\test_files\\\\dicomdirtests\\\\98892003\\\\MR700\\\\4648']\n",
      "            Patient Names in images..: {'Doe^Peter'}\n",
      "            Patient IDs in images..: {'98890234'}\n"
     ]
    }
   ],
   "source": [
    "# authors : Guillaume Lemaitre <g.lemaitre58@gmail.com>\n",
    "# license : MIT\n",
    "\n",
    "from os.path import dirname, join\n",
    "from pprint import pprint\n",
    "\n",
    "import pydicom\n",
    "from pydicom.data import get_testdata_file\n",
    "from pydicom.filereader import read_dicomdir\n",
    "\n",
    "# fetch the path to the test data\n",
    "filepath = get_testdata_file('DICOMDIR')\n",
    "print('Path to the DICOM directory: {}'.format(filepath))\n",
    "# load the data\n",
    "dicom_dir = read_dicomdir(filepath)\n",
    "base_dir = dirname(filepath)\n",
    "\n",
    "# go through the patient record and print information\n",
    "for patient_record in dicom_dir.patient_records:\n",
    "    if (hasattr(patient_record, 'PatientID') and\n",
    "            hasattr(patient_record, 'PatientName')):\n",
    "        print(\"Patient: {}: {}\".format(patient_record.PatientID,\n",
    "                                       patient_record.PatientName))\n",
    "    studies = patient_record.children\n",
    "    # got through each serie\n",
    "    for study in studies:\n",
    "        print(\" \" * 4 + \"Study {}: {}: {}\".format(study.StudyID,\n",
    "                                                  study.StudyDate,\n",
    "                                                  study.StudyDescription))\n",
    "        all_series = study.children\n",
    "        # go through each serie\n",
    "        for series in all_series:\n",
    "            image_count = len(series.children)\n",
    "            plural = ('', 's')[image_count > 1]\n",
    "\n",
    "            # Write basic series info and image count\n",
    "\n",
    "            # Put N/A in if no Series Description\n",
    "            if 'SeriesDescription' not in series:\n",
    "                series.SeriesDescription = \"N/A\"\n",
    "            print(\" \" * 8 + \"Series {}: {}: {} ({} image{})\".format(\n",
    "                series.SeriesNumber, series.Modality, series.SeriesDescription,\n",
    "                image_count, plural))\n",
    "\n",
    "            # Open and read something from each image, for demonstration\n",
    "            # purposes. For simple quick overview of DICOMDIR, leave the\n",
    "            # following out\n",
    "            print(\" \" * 12 + \"Reading images...\")\n",
    "            image_records = series.children\n",
    "            image_filenames = [join(base_dir, *image_rec.ReferencedFileID)\n",
    "                               for image_rec in image_records]\n",
    "\n",
    "            datasets = [pydicom.dcmread(image_filename)\n",
    "                        for image_filename in image_filenames]\n",
    "\n",
    "            patient_names = set(ds.PatientName for ds in datasets)\n",
    "            patient_IDs = set(ds.PatientID for ds in datasets)\n",
    "\n",
    "            # List the image filenames\n",
    "            print(\"\\n\" + \" \" * 12 + \"Image filenames:\")\n",
    "            print(\" \" * 12, end=' ')\n",
    "            pprint(image_filenames, indent=12)\n",
    "\n",
    "            # Expect all images to have same patient name, id\n",
    "            # Show the set of all names, IDs found (should each have one)\n",
    "            print(\" \" * 12 + \"Patient Names in images..: {}\".format(\n",
    "                patient_names))\n",
    "            print(\" \" * 12 + \"Patient IDs in images..: {}\".format(\n",
    "                patient_IDs))"
   ]
  },
  {
   "cell_type": "markdown",
   "metadata": {},
   "source": [
    "上面方法要求输入的对象是dicom dictory类."
   ]
  },
  {
   "cell_type": "markdown",
   "metadata": {},
   "source": [
    "## SimpleITK"
   ]
  },
  {
   "cell_type": "code",
   "execution_count": 2,
   "metadata": {},
   "outputs": [
    {
     "name": "stdout",
     "output_type": "stream",
     "text": [
      "Reading Dicom directory: dicom_series\n",
      "Image size: 512 512 78\n"
     ]
    }
   ],
   "source": [
    "import SimpleITK as sitk\n",
    "import sys\n",
    "import os\n",
    "\n",
    "dir_name = 'dicom_series'\n",
    "print(\"Reading Dicom directory:\", dir_name)\n",
    "reader = sitk.ImageSeriesReader()\n",
    "\n",
    "dicom_names = reader.GetGDCMSeriesFileNames(dir_name)\n",
    "reader.SetFileNames(dicom_names)\n",
    "\n",
    "image = reader.Execute()\n",
    "\n",
    "size = image.GetSize()\n",
    "print(\"Image size:\", size[0], size[1], size[2])\n",
    "\n",
    "# print(\"Writing image:\", sys.argv[2])\n",
    "\n",
    "# sitk.WriteImage(image, sys.argv[2])\n",
    "\n",
    "# if (\"SITK_NOSHOW\" not in os.environ):\n",
    "#     sitk.Show(image, \"Dicom Series\")"
   ]
  },
  {
   "cell_type": "markdown",
   "metadata": {},
   "source": [
    "假如series路径下面还有别的病例的dicom文件:"
   ]
  },
  {
   "cell_type": "code",
   "execution_count": 5,
   "metadata": {},
   "outputs": [
    {
     "name": "stdout",
     "output_type": "stream",
     "text": [
      "Reading Dicom directory: dicom_series\n",
      "Image size: 1024 1024 1\n"
     ]
    }
   ],
   "source": [
    "import SimpleITK as sitk\n",
    "import sys\n",
    "import os\n",
    "\n",
    "dir_name = 'dicom_series'\n",
    "print(\"Reading Dicom directory:\", dir_name)\n",
    "reader = sitk.ImageSeriesReader()\n",
    "\n",
    "dicom_names = reader.GetGDCMSeriesFileNames(dir_name)\n",
    "reader.SetFileNames(dicom_names)\n",
    "\n",
    "image = reader.Execute()\n",
    "\n",
    "size = image.GetSize()\n",
    "print(\"Image size:\", size[0], size[1], size[2])\n",
    "\n",
    "# print(\"Writing image:\", sys.argv[2])\n",
    "\n",
    "# sitk.WriteImage(image, sys.argv[2])\n",
    "\n",
    "# if (\"SITK_NOSHOW\" not in os.environ):\n",
    "#     sitk.Show(image, \"Dicom Series\")"
   ]
  },
  {
   "cell_type": "markdown",
   "metadata": {},
   "source": []
  },
  {
   "cell_type": "code",
   "execution_count": 7,
   "metadata": {},
   "outputs": [
    {
     "name": "stdout",
     "output_type": "stream",
     "text": [
      "Reading Dicom directory: dicom_series2/\n",
      "Image size: 1024 1024 1\n"
     ]
    }
   ],
   "source": [
    "import SimpleITK as sitk\n",
    "import sys\n",
    "import os\n",
    "\n",
    "dir_name = 'dicom_series2/'\n",
    "print(\"Reading Dicom directory:\", dir_name)\n",
    "reader = sitk.ImageSeriesReader()\n",
    "\n",
    "dicom_names = reader.GetGDCMSeriesFileNames(dir_name)\n",
    "reader.SetFileNames(dicom_names)\n",
    "\n",
    "image = reader.Execute()\n",
    "\n",
    "size = image.GetSize()\n",
    "print(\"Image size:\", size[0], size[1], size[2])\n",
    "\n",
    "# print(\"Writing image:\", sys.argv[2])\n",
    "\n",
    "# sitk.WriteImage(image, sys.argv[2])\n",
    "\n",
    "# if (\"SITK_NOSHOW\" not in os.environ):\n",
    "#     sitk.Show(image, \"Dicom Series\")"
   ]
  },
  {
   "cell_type": "markdown",
   "metadata": {},
   "source": [
    "为了简单和规范处理, 这里规定一个路径下, 只存放一个case的dicom文件."
   ]
  },
  {
   "cell_type": "code",
   "execution_count": null,
   "metadata": {},
   "outputs": [],
   "source": []
  }
 ],
 "metadata": {
  "kernelspec": {
   "display_name": "torch_env",
   "language": "python",
   "name": "myenv"
  },
  "language_info": {
   "codemirror_mode": {
    "name": "ipython",
    "version": 3
   },
   "file_extension": ".py",
   "mimetype": "text/x-python",
   "name": "python",
   "nbconvert_exporter": "python",
   "pygments_lexer": "ipython3",
   "version": "3.7.7"
  }
 },
 "nbformat": 4,
 "nbformat_minor": 4
}
