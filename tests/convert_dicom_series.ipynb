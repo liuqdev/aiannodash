{
 "cells": [
  {
   "cell_type": "code",
   "execution_count": 1,
   "metadata": {},
   "outputs": [],
   "source": [
    "import csv\n",
    "import functools\n",
    "import itertools\n",
    "import multiprocessing\n",
    "import os\n",
    "import sys\n",
    "\n",
    "import SimpleITK as sitk"
   ]
  },
  {
   "cell_type": "code",
   "execution_count": 9,
   "metadata": {},
   "outputs": [],
   "source": [
    "def convert_image(input_file_name, output_file_name=None, new_width=None):\n",
    "    try:\n",
    "        print('------------------------------------1')\n",
    "        image_file_reader = sitk.ImageFileReader()\n",
    "        # only read DICOM images\n",
    "        image_file_reader.SetImageIO('GDCMImageIO')\n",
    "        print('------------------------------------2')\n",
    "        image_file_reader.SetFileName(input_file_name)\n",
    "        image_file_reader.ReadImageInformation()\n",
    "        print(image_file_reader)\n",
    "        print('------------------------------------3')\n",
    "        image_size = list(image_file_reader.GetSize())\n",
    "        pirnt('image size:', image_size)\n",
    "        if len(image_size) == 3 and image_size[2] == 1:\n",
    "            image_size[2] = 0\n",
    "        image_file_reader.SetExtractSize(image_size)\n",
    "        image = image_file_reader.Execute()\n",
    "        \n",
    "        if new_width:\n",
    "            original_size = image.GetSize()\n",
    "            original_spacing = image.GetSpacing()\n",
    "            new_spacing = [(original_size[0] - 1) * original_spacing[0]\n",
    "                           / (new_width - 1)] * 2\n",
    "            new_size = [new_width, int((original_size[1] - 1)\n",
    "                                       * original_spacing[1] / new_spacing[1])]\n",
    "            image = sitk.Resample(image1=image, size=new_size,\n",
    "                                  transform=sitk.Transform(),\n",
    "                                  interpolator=sitk.sitkLinear,\n",
    "                                  outputOrigin=image.GetOrigin(),\n",
    "                                  outputSpacing=new_spacing,\n",
    "                                  outputDirection=image.GetDirection(),\n",
    "                                  defaultPixelValue=0,\n",
    "                                  outputPixelType=image.GetPixelID())\n",
    "        # If a single channel image, rescale to [0,255]. Also modify the\n",
    "        # intensity values based on the photometric interpretation. If\n",
    "        # MONOCHROME2 (minimum should be displayed as black) we don't need to\n",
    "        # do anything, if image has MONOCRHOME1 (minimum should be displayed as\n",
    "        # white) we flip # the intensities. This is a constraint imposed by ITK\n",
    "        # which always assumes MONOCHROME2.\n",
    "        if image.GetNumberOfComponentsPerPixel() == 1:\n",
    "            image = sitk.RescaleIntensity(image, 0, 255)\n",
    "            if image_file_reader.GetMetaData('0028|0004').strip() \\\n",
    "                    == 'MONOCHROME1':\n",
    "                image = sitk.InvertIntensity(image, maximum=255)\n",
    "            image = sitk.Cast(image, sitk.sitkUInt8)\n",
    "        if output_file_name:\n",
    "            sitk.WriteImage(image, output_file_name)\n",
    "        return image\n",
    "    except BaseException:\n",
    "        return False"
   ]
  },
  {
   "cell_type": "code",
   "execution_count": 15,
   "metadata": {},
   "outputs": [],
   "source": [
    "def convert_image(input_file_name, output_file_name=None, new_width=None):\n",
    "    print('------------------------------------1')\n",
    "    image_file_reader = sitk.ImageFileReader()\n",
    "    # only read DICOM images\n",
    "    image_file_reader.SetImageIO('GDCMImageIO')\n",
    "    print('------------------------------------2')\n",
    "    image_file_reader.SetFileName(input_file_name)\n",
    "    image_file_reader.ReadImageInformation()\n",
    "    print(image_file_reader)\n",
    "    print('------------------------------------3')\n",
    "    image_size = list(image_file_reader.GetSize())\n",
    "    print('image size:', image_size)\n",
    "    if len(image_size) == 3 and image_size[2] == 1:\n",
    "        image_size[2] = 0\n",
    "    image_file_reader.SetExtractSize(image_size)\n",
    "    image = image_file_reader.Execute()\n",
    "\n",
    "    if new_width:\n",
    "        original_size = image.GetSize()\n",
    "        original_spacing = image.GetSpacing()\n",
    "        new_spacing = [(original_size[0] - 1) * original_spacing[0]\n",
    "                       / (new_width - 1)] * 2\n",
    "        new_size = [new_width, int((original_size[1] - 1)\n",
    "                                   * original_spacing[1] / new_spacing[1])]\n",
    "        image = sitk.Resample(image1=image, size=new_size,\n",
    "                              transform=sitk.Transform(),\n",
    "                              interpolator=sitk.sitkLinear,\n",
    "                              outputOrigin=image.GetOrigin(),\n",
    "                              outputSpacing=new_spacing,\n",
    "                              outputDirection=image.GetDirection(),\n",
    "                              defaultPixelValue=0,\n",
    "                              outputPixelType=image.GetPixelID())\n",
    "    # If a single channel image, rescale to [0,255]. Also modify the\n",
    "    # intensity values based on the photometric interpretation. If\n",
    "    # MONOCHROME2 (minimum should be displayed as black) we don't need to\n",
    "    # do anything, if image has MONOCRHOME1 (minimum should be displayed as\n",
    "    # white) we flip # the intensities. This is a constraint imposed by ITK\n",
    "    # which always assumes MONOCHROME2.\n",
    "    if image.GetNumberOfComponentsPerPixel() == 1:\n",
    "        image = sitk.RescaleIntensity(image, 0, 255)\n",
    "        if image_file_reader.GetMetaData('0028|0004').strip() \\\n",
    "                == 'MONOCHROME1':\n",
    "            image = sitk.InvertIntensity(image, maximum=255)\n",
    "        image = sitk.Cast(image, sitk.sitkUInt8)\n",
    "    if output_file_name:\n",
    "        sitk.WriteImage(image, output_file_name)\n",
    "    return image"
   ]
  },
  {
   "cell_type": "code",
   "execution_count": 18,
   "metadata": {},
   "outputs": [
    {
     "name": "stdout",
     "output_type": "stream",
     "text": [
      "------------------------------------1\n",
      "------------------------------------2\n",
      "itk::simple::ImageFileReader\n",
      "  FileName: \"dicom_series/i0000,0000b.dcm\"\n",
      "  ExtractSize: [ ]\n",
      "  ExtractIndex: [ ]\n",
      "  Image Information:\n",
      "    PixelType: 32-bit signed integer\n",
      "    Dimension: 3\n",
      "    NumberOfComponents: 1\n",
      "    Direction: [ 1, 0, 0, 0, 1, 0, 0, 0, 1 ]\n",
      "    Origin: [ -185, -98, 1690.5 ]\n",
      "    Spacing: [ 0.726563, 0.726563, 1 ]\n",
      "    Size: [ 512, 512, 1 ]\n",
      "  OutputPixelType: Unknown pixel id\n",
      "  LoadPrivateTags: 0\n",
      "  ImageIOName: GDCMImageIO\n",
      "  Registered ImageIO:\n",
      "\tBMPImageIO ( *.bmp, *.BMP )\n",
      "\tBioRadImageIO ( *.PIC, *.pic )\n",
      "\tBruker2dseqImageIO\n",
      "\tGDCMImageIO ( *.dcm, *.DCM, *.dicom, *.DICOM )\n",
      "\tGE4ImageIO\n",
      "\tGE5ImageIO\n",
      "\tGiplImageIO\n",
      "\tHDF5ImageIO\n",
      "\tJPEGImageIO ( *.jpg, *.JPG, *.jpeg, *.JPEG )\n",
      "\tLSMImageIO ( *.tif, *.TIF, *.tiff, *.TIFF, *.lsm, *.LSM )\n",
      "\tMINCImageIO ( *.mnc, *.MNC )\n",
      "\tMRCImageIO ( *.mrc, *.rec )\n",
      "\tMetaImageIO ( *.mha, *.mhd )\n",
      "\tNiftiImageIO ( *.nia, *.nii, *.nii.gz, *.hdr, *.img, *.img.gz )\n",
      "\tNrrdImageIO ( *.nrrd, *.nhdr )\n",
      "\tPNGImageIO ( *.png, *.PNG )\n",
      "\tStimulateImageIO ( *.spr )\n",
      "\tTIFFImageIO ( *.tif, *.TIF, *.tiff, *.TIFF )\n",
      "\tVTKImageIO ( *.vtk )\n",
      "  Debug: 0\n",
      "  NumberOfThreads: 8\n",
      "  Commands: (none)\n",
      "  ProgressMeasurement: 0\n",
      "  ActiveProcess: (none)\n",
      "\n",
      "------------------------------------3\n",
      "image size: [512, 512, 1]\n"
     ]
    }
   ],
   "source": [
    "image = convert_image('dicom_series/i0000,0000b.dcm')"
   ]
  },
  {
   "cell_type": "code",
   "execution_count": 19,
   "metadata": {},
   "outputs": [
    {
     "data": {
      "text/plain": [
       "SimpleITK.SimpleITK.Image"
      ]
     },
     "execution_count": 19,
     "metadata": {},
     "output_type": "execute_result"
    }
   ],
   "source": [
    "type(image)"
   ]
  },
  {
   "cell_type": "code",
   "execution_count": 21,
   "metadata": {},
   "outputs": [
    {
     "data": {
      "text/plain": [
       "numpy.ndarray"
      ]
     },
     "execution_count": 21,
     "metadata": {},
     "output_type": "execute_result"
    }
   ],
   "source": [
    "arr = sitk.GetArrayFromImage(image)\n",
    "type(arr)"
   ]
  },
  {
   "cell_type": "code",
   "execution_count": 22,
   "metadata": {},
   "outputs": [
    {
     "data": {
      "text/plain": [
       "(512, 512)"
      ]
     },
     "execution_count": 22,
     "metadata": {},
     "output_type": "execute_result"
    }
   ],
   "source": [
    "arr.shape"
   ]
  },
  {
   "cell_type": "code",
   "execution_count": 23,
   "metadata": {},
   "outputs": [],
   "source": [
    "import matplotlib.pyplot as plt"
   ]
  },
  {
   "cell_type": "code",
   "execution_count": 24,
   "metadata": {},
   "outputs": [
    {
     "data": {
      "text/plain": [
       "<matplotlib.image.AxesImage at 0x14918520688>"
      ]
     },
     "execution_count": 24,
     "metadata": {},
     "output_type": "execute_result"
    },
    {
     "data": {
      "image/png": "[encoded data removed]",
      "text/plain": [
       "<Figure size 432x288 with 1 Axes>"
      ]
     },
     "metadata": {
      "needs_background": "light"
     },
     "output_type": "display_data"
    }
   ],
   "source": [
    "plt.imshow(arr)"
   ]
  },
  {
   "cell_type": "code",
   "execution_count": 25,
   "metadata": {},
   "outputs": [
    {
     "name": "stdout",
     "output_type": "stream",
     "text": [
      "------------------------------------2\n",
      "itk::simple::ImageFileReader\n",
      "  FileName: \"dicom_series/i0000,0000b.dcm\"\n",
      "  ExtractSize: [ ]\n",
      "  ExtractIndex: [ ]\n",
      "  Image Information:\n",
      "    PixelType: 32-bit signed integer\n",
      "    Dimension: 3\n",
      "    NumberOfComponents: 1\n",
      "    Direction: [ 1, 0, 0, 0, 1, 0, 0, 0, 1 ]\n",
      "    Origin: [ -185, -98, 1690.5 ]\n",
      "    Spacing: [ 0.726563, 0.726563, 1 ]\n",
      "    Size: [ 512, 512, 1 ]\n",
      "  OutputPixelType: Unknown pixel id\n",
      "  LoadPrivateTags: 0\n",
      "  ImageIOName: GDCMImageIO\n",
      "  Registered ImageIO:\n",
      "\tBMPImageIO ( *.bmp, *.BMP )\n",
      "\tBioRadImageIO ( *.PIC, *.pic )\n",
      "\tBruker2dseqImageIO\n",
      "\tGDCMImageIO ( *.dcm, *.DCM, *.dicom, *.DICOM )\n",
      "\tGE4ImageIO\n",
      "\tGE5ImageIO\n",
      "\tGiplImageIO\n",
      "\tHDF5ImageIO\n",
      "\tJPEGImageIO ( *.jpg, *.JPG, *.jpeg, *.JPEG )\n",
      "\tLSMImageIO ( *.tif, *.TIF, *.tiff, *.TIFF, *.lsm, *.LSM )\n",
      "\tMINCImageIO ( *.mnc, *.MNC )\n",
      "\tMRCImageIO ( *.mrc, *.rec )\n",
      "\tMetaImageIO ( *.mha, *.mhd )\n",
      "\tNiftiImageIO ( *.nia, *.nii, *.nii.gz, *.hdr, *.img, *.img.gz )\n",
      "\tNrrdImageIO ( *.nrrd, *.nhdr )\n",
      "\tPNGImageIO ( *.png, *.PNG )\n",
      "\tStimulateImageIO ( *.spr )\n",
      "\tTIFFImageIO ( *.tif, *.TIF, *.tiff, *.TIFF )\n",
      "\tVTKImageIO ( *.vtk )\n",
      "  Debug: 0\n",
      "  NumberOfThreads: 8\n",
      "  Commands: (none)\n",
      "  ProgressMeasurement: 0\n",
      "  ActiveProcess: (none)\n",
      "\n"
     ]
    }
   ],
   "source": [
    "input_file_name = 'dicom_series/i0000,0000b.dcm'\n",
    "image_file_reader = sitk.ImageFileReader()\n",
    "# only read DICOM images\n",
    "image_file_reader.SetImageIO('GDCMImageIO')\n",
    "print('------------------------------------2')\n",
    "image_file_reader.SetFileName(input_file_name)\n",
    "image_file_reader.ReadImageInformation()\n",
    "print(image_file_reader)"
   ]
  },
  {
   "cell_type": "code",
   "execution_count": 27,
   "metadata": {},
   "outputs": [],
   "source": [
    "import pydicom"
   ]
  },
  {
   "cell_type": "code",
   "execution_count": 28,
   "metadata": {},
   "outputs": [
    {
     "data": {
      "text/plain": [
       "Dataset.file_meta -------------------------------\n",
       "(0002, 0000) File Meta Information Group Length  UL: 208\n",
       "(0002, 0001) File Meta Information Version       OB: b'\\x00\\x01'\n",
       "(0002, 0002) Media Storage SOP Class UID         UI: CT Image Storage\n",
       "(0002, 0003) Media Storage SOP Instance UID      UI: 1.3.6.1.4.1.9590.100.1.2.290142139912652972815729622292163617250\n",
       "(0002, 0010) Transfer Syntax UID                 UI: Implicit VR Little Endian\n",
       "(0002, 0012) Implementation Class UID            UI: 1.3.6.1.4.1.9590.100.1.3.100.9.4\n",
       "(0002, 0013) Implementation Version Name         SH: 'MATLAB IPT 9.4'\n",
       "-------------------------------------------------\n",
       "(0008, 0005) Specific Character Set              CS: 'ISO_IR 100'\n",
       "(0008, 0008) Image Type                          CS: ['ORIGINAL', 'PRIMARY', 'AXIAL', 'HELIX']\n",
       "(0008, 0012) Instance Creation Date              DA: ''\n",
       "(0008, 0013) Instance Creation Time              TM: ''\n",
       "(0008, 0016) SOP Class UID                       UI: CT Image Storage\n",
       "(0008, 0018) SOP Instance UID                    UI: 1.3.6.1.4.1.9590.100.1.2.290142139912652972815729622292163617250\n",
       "(0008, 0020) Study Date                          DA: ''\n",
       "(0008, 0021) Series Date                         DA: ''\n",
       "(0008, 0022) Acquisition Date                    DA: ''\n",
       "(0008, 0023) Content Date                        DA: ''\n",
       "(0008, 0030) Study Time                          TM: '133000'\n",
       "(0008, 0032) Acquisition Time                    TM: '154110'\n",
       "(0008, 0033) Content Time                        TM: '154110.831000'\n",
       "(0008, 0050) Accession Number                    SH: ''\n",
       "(0008, 0060) Modality                            CS: 'CT'\n",
       "(0008, 0070) Manufacturer                        LO: ''\n",
       "(0008, 0080) Institution Name                    LO: ''\n",
       "(0008, 0081) Institution Address                 ST: ''\n",
       "(0008, 0090) Referring Physician's Name          PN: ''\n",
       "(0008, 1010) Station Name                        SH: ''\n",
       "(0008, 1030) Study Description                   LO: ''\n",
       "(0008, 103e) Series Description                  LO: ''\n",
       "(0008, 1040) Institutional Department Name       LO: ''\n",
       "(0008, 1070) Operators' Name                     PN: ''\n",
       "(0008, 1090) Manufacturer's Model Name           LO: ''\n",
       "(0010, 0010) Patient's Name                      PN: 'CHAOS^CT_SET_3'\n",
       "(0010, 0020) Patient ID                          LO: ''\n",
       "(0010, 0030) Patient's Birth Date                DA: ''\n",
       "(0010, 0040) Patient's Sex                       CS: ''\n",
       "(0010, 1000) Other Patient IDs                   LO: ''\n",
       "(0010, 1010) Patient's Age                       AS: ''\n",
       "(0010, 1030) Patient's Weight                    DS: None\n",
       "(0018, 0010) Contrast/Bolus Agent                LO: 'CONTRAST'\n",
       "(0018, 0015) Body Part Examined                  CS: ''\n",
       "(0018, 0022) Scan Options                        CS: 'HELIX'\n",
       "(0018, 0050) Slice Thickness                     DS: \"3.2\"\n",
       "(0018, 0060) KVP                                 DS: \"120.0\"\n",
       "(0018, 0090) Data Collection Diameter            DS: \"372.0\"\n",
       "(0018, 1000) Device Serial Number                LO: '00000'\n",
       "(0018, 1020) Software Versions                   LO: '2.21'\n",
       "(0018, 1030) Protocol Name                       LO: 'T2SPIR'\n",
       "(0018, 1040) Contrast/Bolus Route                LO: 'IV'\n",
       "(0018, 1041) Contrast/Bolus Volume               DS: \"55.0\"\n",
       "(0018, 1046) Contrast Flow Rate                  DS: \"3.5\"\n",
       "(0018, 1047) Contrast Flow Duration              DS: \"15.7142859\"\n",
       "(0018, 1049) Contrast/Bolus Ingredient Concentra DS: \"300.0\"\n",
       "(0018, 1100) Reconstruction Diameter             DS: \"372.0\"\n",
       "(0018, 1120) Gantry/Detector Tilt                DS: \"0.0\"\n",
       "(0018, 1130) Table Height                        DS: \"167.0\"\n",
       "(0018, 1140) Rotation Direction                  CS: 'CW'\n",
       "(0018, 1151) X-Ray Tube Current                  IS: \"220\"\n",
       "(0018, 1152) Exposure                            IS: \"110\"\n",
       "(0018, 1160) Filter Type                         SH: 'B'\n",
       "(0018, 1210) Convolution Kernel                  SH: 'B'\n",
       "(0018, 5100) Patient Position                    CS: 'FFS'\n",
       "(0020, 000d) Study Instance UID                  UI: 1.2.124.113532.192.70.134.138.20051020.155132.4446164\n",
       "(0020, 000e) Series Instance UID                 UI: 1.2.840.113704.1.1762661655.11024.1129934350.12\n",
       "(0020, 0010) Study ID                            SH: '3'\n",
       "(0020, 0011) Series Number                       IS: \"4\"\n",
       "(0020, 0012) Acquisition Number                  IS: None\n",
       "(0020, 0013) Instance Number                     IS: \"1\"\n",
       "(0020, 0032) Image Position (Patient)            DS: [-185, -98, 1690.5]\n",
       "(0020, 0037) Image Orientation (Patient)         DS: [1, 0, 0, 0, 1, 0]\n",
       "(0020, 0052) Frame of Reference UID              UI: 1.2.840.113704.1.1762661655.11024.1129934039.3\n",
       "(0020, 0060) Laterality                          CS: ''\n",
       "(0020, 1040) Position Reference Indicator        LO: ''\n",
       "(0020, 1041) Slice Location                      DS: \"61.0\"\n",
       "(0020, 4000) Image Comments                      LT: ''\n",
       "(0028, 0002) Samples per Pixel                   US: 1\n",
       "(0028, 0004) Photometric Interpretation          CS: 'MONOCHROME2'\n",
       "(0028, 0010) Rows                                US: 512\n",
       "(0028, 0011) Columns                             US: 512\n",
       "(0028, 0030) Pixel Spacing                       DS: [0.7265625, 0.7265625]\n",
       "(0028, 0100) Bits Allocated                      US: 16\n",
       "(0028, 0101) Bits Stored                         US: 16\n",
       "(0028, 0102) High Bit                            US: 15\n",
       "(0028, 0103) Pixel Representation                US: 0\n",
       "(0028, 0106) Smallest Image Pixel Value          US: 0\n",
       "(0028, 0107) Largest Image Pixel Value           US: 2206\n",
       "(0028, 1050) Window Center                       DS: [50, 50]\n",
       "(0028, 1051) Window Width                        DS: [400, 400]\n",
       "(0028, 1052) Rescale Intercept                   DS: \"-1000.0\"\n",
       "(0028, 1053) Rescale Slope                       DS: \"1.0\"\n",
       "(0040, 0244) Performed Procedure Step Start Date DA: ''\n",
       "(0040, 0245) Performed Procedure Step Start Time TM: ''\n",
       "(0040, 0253) Performed Procedure Step ID         SH: ''\n",
       "(0040, 0254) Performed Procedure Step Descriptio LO: ''\n",
       "(7fe0, 0010) Pixel Data                          OW: Array of 524288 elements"
      ]
     },
     "execution_count": 28,
     "metadata": {},
     "output_type": "execute_result"
    }
   ],
   "source": [
    "input_file_name = 'dicom_series/i0000,0000b.dcm'\n",
    "ds = pydicom.read_file(input_file_name)\n",
    "ds"
   ]
  },
  {
   "cell_type": "markdown",
   "metadata": {},
   "source": [
    "- tag – a DICOM tag (as a Tag object)\n",
    "- VR – DICOM value representation – various number and string formats, etc\n",
    "- VM – value multiplicity. This is 1 for most DICOM tags, but can be multiple, e.g. for coordinates. You do not have to specify this, the DataElement class keeps track of it based on value.\n",
    "- value – the actual value. A regular value like a number or string (or list of them), or a Sequence.\n",
    "Tag"
   ]
  },
  {
   "cell_type": "code",
   "execution_count": 29,
   "metadata": {},
   "outputs": [
    {
     "data": {
      "text/plain": [
       "dict_keys([(0008, 0005), (0008, 0008), (0008, 0012), (0008, 0013), (0008, 0016), (0008, 0018), (0008, 0020), (0008, 0021), (0008, 0022), (0008, 0023), (0008, 0030), (0008, 0032), (0008, 0033), (0008, 0050), (0008, 0060), (0008, 0070), (0008, 0080), (0008, 0081), (0008, 0090), (0008, 1010), (0008, 1030), (0008, 103e), (0008, 1040), (0008, 1070), (0008, 1090), (0010, 0010), (0010, 0020), (0010, 0030), (0010, 0040), (0010, 1000), (0010, 1010), (0010, 1030), (0018, 0010), (0018, 0015), (0018, 0022), (0018, 0050), (0018, 0060), (0018, 0090), (0018, 1000), (0018, 1020), (0018, 1030), (0018, 1040), (0018, 1041), (0018, 1046), (0018, 1047), (0018, 1049), (0018, 1100), (0018, 1120), (0018, 1130), (0018, 1140), (0018, 1151), (0018, 1152), (0018, 1160), (0018, 1210), (0018, 5100), (0020, 000d), (0020, 000e), (0020, 0010), (0020, 0011), (0020, 0012), (0020, 0013), (0020, 0032), (0020, 0037), (0020, 0052), (0020, 0060), (0020, 1040), (0020, 1041), (0020, 4000), (0028, 0002), (0028, 0004), (0028, 0010), (0028, 0011), (0028, 0030), (0028, 0100), (0028, 0101), (0028, 0102), (0028, 0103), (0028, 0106), (0028, 0107), (0028, 1050), (0028, 1051), (0028, 1052), (0028, 1053), (0040, 0244), (0040, 0245), (0040, 0253), (0040, 0254), (7fe0, 0010)])"
      ]
     },
     "execution_count": 29,
     "metadata": {},
     "output_type": "execute_result"
    }
   ],
   "source": [
    "ds.keys()"
   ]
  },
  {
   "cell_type": "code",
   "execution_count": 34,
   "metadata": {},
   "outputs": [
    {
     "data": {
      "text/plain": [
       "88"
      ]
     },
     "execution_count": 34,
     "metadata": {},
     "output_type": "execute_result"
    }
   ],
   "source": [
    "len(ds.keys())"
   ]
  },
  {
   "cell_type": "code",
   "execution_count": 56,
   "metadata": {},
   "outputs": [
    {
     "data": {
      "text/plain": [
       "(0008, 0008) Image Type                          CS: ['ORIGINAL', 'PRIMARY', 'AXIAL', 'HELIX']"
      ]
     },
     "execution_count": 56,
     "metadata": {},
     "output_type": "execute_result"
    }
   ],
   "source": [
    "from pydicom.tag import Tag\n",
    "ds[Tag(0x08, 0x08)]"
   ]
  },
  {
   "cell_type": "code",
   "execution_count": 51,
   "metadata": {},
   "outputs": [
    {
     "data": {
      "text/plain": [
       "'CS'"
      ]
     },
     "execution_count": 51,
     "metadata": {},
     "output_type": "execute_result"
    }
   ],
   "source": [
    "ds[Tag(0x08, 0x05)].VR"
   ]
  },
  {
   "cell_type": "code",
   "execution_count": 53,
   "metadata": {},
   "outputs": [
    {
     "data": {
      "text/plain": [
       "4"
      ]
     },
     "execution_count": 53,
     "metadata": {},
     "output_type": "execute_result"
    }
   ],
   "source": [
    "ds[Tag(0x08, 0x08)].VM"
   ]
  },
  {
   "cell_type": "code",
   "execution_count": 54,
   "metadata": {},
   "outputs": [
    {
     "data": {
      "text/plain": [
       "['ORIGINAL', 'PRIMARY', 'AXIAL', 'HELIX']"
      ]
     },
     "execution_count": 54,
     "metadata": {},
     "output_type": "execute_result"
    }
   ],
   "source": [
    "ds[Tag(0x08, 0x08)].value"
   ]
  },
  {
   "cell_type": "code",
   "execution_count": 55,
   "metadata": {},
   "outputs": [
    {
     "data": {
      "text/plain": [
       "'Image Type'"
      ]
     },
     "execution_count": 55,
     "metadata": {},
     "output_type": "execute_result"
    }
   ],
   "source": [
    "ds[Tag(0x08, 0x08)].name"
   ]
  },
  {
   "cell_type": "code",
   "execution_count": 57,
   "metadata": {},
   "outputs": [
    {
     "data": {
      "text/plain": [
       "(0008, 0008)"
      ]
     },
     "execution_count": 57,
     "metadata": {},
     "output_type": "execute_result"
    }
   ],
   "source": [
    "ds[Tag(0x08, 0x08)].tag"
   ]
  },
  {
   "cell_type": "code",
   "execution_count": 58,
   "metadata": {},
   "outputs": [
    {
     "data": {
      "text/plain": [
       "'ImageType'"
      ]
     },
     "execution_count": 58,
     "metadata": {},
     "output_type": "execute_result"
    }
   ],
   "source": [
    "ds[Tag(0x08, 0x08)]"
   ]
  },
  {
   "cell_type": "code",
   "execution_count": 46,
   "metadata": {},
   "outputs": [
    {
     "data": {
      "text/html": [
       "<div>\n",
       "<style scoped>\n",
       "    .dataframe tbody tr th:only-of-type {\n",
       "        vertical-align: middle;\n",
       "    }\n",
       "\n",
       "    .dataframe tbody tr th {\n",
       "        vertical-align: top;\n",
       "    }\n",
       "\n",
       "    .dataframe thead th {\n",
       "        text-align: right;\n",
       "    }\n",
       "</style>\n",
       "<table border=\"1\" class=\"dataframe\">\n",
       "  <thead>\n",
       "    <tr style=\"text-align: right;\">\n",
       "      <th></th>\n",
       "      <th>key</th>\n",
       "      <th>name</th>\n",
       "      <th>value</th>\n",
       "    </tr>\n",
       "  </thead>\n",
       "  <tbody>\n",
       "    <tr>\n",
       "      <th>0</th>\n",
       "      <td>(0008, 0005)</td>\n",
       "      <td>Specific Character Set</td>\n",
       "      <td>ISO_IR 100</td>\n",
       "    </tr>\n",
       "    <tr>\n",
       "      <th>1</th>\n",
       "      <td>(0008, 0008)</td>\n",
       "      <td>Image Type</td>\n",
       "      <td>[ORIGINAL, PRIMARY, AXIAL, HELIX]</td>\n",
       "    </tr>\n",
       "    <tr>\n",
       "      <th>2</th>\n",
       "      <td>(0008, 0012)</td>\n",
       "      <td>Instance Creation Date</td>\n",
       "      <td></td>\n",
       "    </tr>\n",
       "    <tr>\n",
       "      <th>3</th>\n",
       "      <td>(0008, 0013)</td>\n",
       "      <td>Instance Creation Time</td>\n",
       "      <td></td>\n",
       "    </tr>\n",
       "    <tr>\n",
       "      <th>4</th>\n",
       "      <td>(0008, 0016)</td>\n",
       "      <td>SOP Class UID</td>\n",
       "      <td>1.2.840.10008.5.1.4.1.1.2</td>\n",
       "    </tr>\n",
       "  </tbody>\n",
       "</table>\n",
       "</div>"
      ],
      "text/plain": [
       "            key                    name                              value\n",
       "0  (0008, 0005)  Specific Character Set                         ISO_IR 100\n",
       "1  (0008, 0008)              Image Type  [ORIGINAL, PRIMARY, AXIAL, HELIX]\n",
       "2  (0008, 0012)  Instance Creation Date                                   \n",
       "3  (0008, 0013)  Instance Creation Time                                   \n",
       "4  (0008, 0016)           SOP Class UID          1.2.840.10008.5.1.4.1.1.2"
      ]
     },
     "execution_count": 46,
     "metadata": {},
     "output_type": "execute_result"
    }
   ],
   "source": [
    "# https://stackoverflow.com/questions/56601525/how-to-store-the-header-data-of-a-dicom-file-in-a-pandas-dataframe\n",
    "import pandas as pd\n",
    "\n",
    "ds = pydicom.read_file(input_file_name)\n",
    "df = pd.DataFrame(ds.values())\n",
    "df[0] = df[0].apply(lambda x: pydicom.dataelem.DataElement_from_raw(x) if isinstance(x, pydicom.dataelem.RawDataElement) else x)\n",
    "df['name'] = df[0].apply(lambda x: x.name)\n",
    "df['value'] = df[0].apply(lambda x: x.value)\n",
    "df['key'] = [str(k) for k in ds.keys()]\n",
    "df = df[['key', 'name', 'value']]\n",
    "\n",
    "df.head()"
   ]
  },
  {
   "cell_type": "code",
   "execution_count": 59,
   "metadata": {},
   "outputs": [
    {
     "data": {
      "text/html": [
       "<div>\n",
       "<style scoped>\n",
       "    .dataframe tbody tr th:only-of-type {\n",
       "        vertical-align: middle;\n",
       "    }\n",
       "\n",
       "    .dataframe tbody tr th {\n",
       "        vertical-align: top;\n",
       "    }\n",
       "\n",
       "    .dataframe thead th {\n",
       "        text-align: right;\n",
       "    }\n",
       "</style>\n",
       "<table border=\"1\" class=\"dataframe\">\n",
       "  <thead>\n",
       "    <tr style=\"text-align: right;\">\n",
       "      <th></th>\n",
       "      <th>0</th>\n",
       "      <th>name</th>\n",
       "      <th>value</th>\n",
       "      <th>VR</th>\n",
       "      <th>VM</th>\n",
       "      <th>key</th>\n",
       "    </tr>\n",
       "  </thead>\n",
       "  <tbody>\n",
       "    <tr>\n",
       "      <th>0</th>\n",
       "      <td>(0008, 0005) Specific Character Set           ...</td>\n",
       "      <td>Specific Character Set</td>\n",
       "      <td>ISO_IR 100</td>\n",
       "      <td>CS</td>\n",
       "      <td>1</td>\n",
       "      <td>(0008, 0005)</td>\n",
       "    </tr>\n",
       "    <tr>\n",
       "      <th>1</th>\n",
       "      <td>(0008, 0008) Image Type                       ...</td>\n",
       "      <td>Image Type</td>\n",
       "      <td>[ORIGINAL, PRIMARY, AXIAL, HELIX]</td>\n",
       "      <td>CS</td>\n",
       "      <td>4</td>\n",
       "      <td>(0008, 0008)</td>\n",
       "    </tr>\n",
       "    <tr>\n",
       "      <th>2</th>\n",
       "      <td>(0008, 0012) Instance Creation Date           ...</td>\n",
       "      <td>Instance Creation Date</td>\n",
       "      <td></td>\n",
       "      <td>DA</td>\n",
       "      <td>0</td>\n",
       "      <td>(0008, 0012)</td>\n",
       "    </tr>\n",
       "    <tr>\n",
       "      <th>3</th>\n",
       "      <td>(0008, 0013) Instance Creation Time           ...</td>\n",
       "      <td>Instance Creation Time</td>\n",
       "      <td></td>\n",
       "      <td>TM</td>\n",
       "      <td>0</td>\n",
       "      <td>(0008, 0013)</td>\n",
       "    </tr>\n",
       "    <tr>\n",
       "      <th>4</th>\n",
       "      <td>(0008, 0016) SOP Class UID                    ...</td>\n",
       "      <td>SOP Class UID</td>\n",
       "      <td>1.2.840.10008.5.1.4.1.1.2</td>\n",
       "      <td>UI</td>\n",
       "      <td>1</td>\n",
       "      <td>(0008, 0016)</td>\n",
       "    </tr>\n",
       "  </tbody>\n",
       "</table>\n",
       "</div>"
      ],
      "text/plain": [
       "                                                   0                    name  \\\n",
       "0  (0008, 0005) Specific Character Set           ...  Specific Character Set   \n",
       "1  (0008, 0008) Image Type                       ...              Image Type   \n",
       "2  (0008, 0012) Instance Creation Date           ...  Instance Creation Date   \n",
       "3  (0008, 0013) Instance Creation Time           ...  Instance Creation Time   \n",
       "4  (0008, 0016) SOP Class UID                    ...           SOP Class UID   \n",
       "\n",
       "                               value  VR  VM           key  \n",
       "0                         ISO_IR 100  CS   1  (0008, 0005)  \n",
       "1  [ORIGINAL, PRIMARY, AXIAL, HELIX]  CS   4  (0008, 0008)  \n",
       "2                                     DA   0  (0008, 0012)  \n",
       "3                                     TM   0  (0008, 0013)  \n",
       "4          1.2.840.10008.5.1.4.1.1.2  UI   1  (0008, 0016)  "
      ]
     },
     "execution_count": 59,
     "metadata": {},
     "output_type": "execute_result"
    }
   ],
   "source": [
    "# https://stackoverflow.com/questions/56601525/how-to-store-the-header-data-of-a-dicom-file-in-a-pandas-dataframe\n",
    "import pandas as pd\n",
    "\n",
    "ds = pydicom.read_file(input_file_name)\n",
    "df = pd.DataFrame(ds.values())\n",
    "df[0] = df[0].apply(lambda x: pydicom.dataelem.DataElement_from_raw(x) if isinstance(x, pydicom.dataelem.RawDataElement) else x)\n",
    "df['name'] = df[0].apply(lambda x: x.name)\n",
    "df['value'] = df[0].apply(lambda x: x.value)\n",
    "df['VR'] = df[0].apply(lambda x: x.VR)\n",
    "df['VM'] = df[0].apply(lambda x: x.VM)\n",
    "df['key'] = [str(k) for k in ds.keys()]\n",
    "# df = df[['key', 'name', 'value']]\n",
    "\n",
    "df.head()"
   ]
  },
  {
   "cell_type": "code",
   "execution_count": 43,
   "metadata": {},
   "outputs": [
    {
     "data": {
      "text/html": [
       "<div>\n",
       "<style scoped>\n",
       "    .dataframe tbody tr th:only-of-type {\n",
       "        vertical-align: middle;\n",
       "    }\n",
       "\n",
       "    .dataframe tbody tr th {\n",
       "        vertical-align: top;\n",
       "    }\n",
       "\n",
       "    .dataframe thead th {\n",
       "        text-align: right;\n",
       "    }\n",
       "</style>\n",
       "<table border=\"1\" class=\"dataframe\">\n",
       "  <thead>\n",
       "    <tr style=\"text-align: right;\">\n",
       "      <th></th>\n",
       "      <th>key</th>\n",
       "    </tr>\n",
       "  </thead>\n",
       "  <tbody>\n",
       "    <tr>\n",
       "      <th>0</th>\n",
       "      <td>524293</td>\n",
       "    </tr>\n",
       "    <tr>\n",
       "      <th>1</th>\n",
       "      <td>524296</td>\n",
       "    </tr>\n",
       "    <tr>\n",
       "      <th>2</th>\n",
       "      <td>524306</td>\n",
       "    </tr>\n",
       "    <tr>\n",
       "      <th>3</th>\n",
       "      <td>524307</td>\n",
       "    </tr>\n",
       "    <tr>\n",
       "      <th>4</th>\n",
       "      <td>524310</td>\n",
       "    </tr>\n",
       "    <tr>\n",
       "      <th>...</th>\n",
       "      <td>...</td>\n",
       "    </tr>\n",
       "    <tr>\n",
       "      <th>83</th>\n",
       "      <td>4194884</td>\n",
       "    </tr>\n",
       "    <tr>\n",
       "      <th>84</th>\n",
       "      <td>4194885</td>\n",
       "    </tr>\n",
       "    <tr>\n",
       "      <th>85</th>\n",
       "      <td>4194899</td>\n",
       "    </tr>\n",
       "    <tr>\n",
       "      <th>86</th>\n",
       "      <td>4194900</td>\n",
       "    </tr>\n",
       "    <tr>\n",
       "      <th>87</th>\n",
       "      <td>2145386512</td>\n",
       "    </tr>\n",
       "  </tbody>\n",
       "</table>\n",
       "<p>88 rows × 1 columns</p>\n",
       "</div>"
      ],
      "text/plain": [
       "           key\n",
       "0       524293\n",
       "1       524296\n",
       "2       524306\n",
       "3       524307\n",
       "4       524310\n",
       "..         ...\n",
       "83     4194884\n",
       "84     4194885\n",
       "85     4194899\n",
       "86     4194900\n",
       "87  2145386512\n",
       "\n",
       "[88 rows x 1 columns]"
      ]
     },
     "execution_count": 43,
     "metadata": {},
     "output_type": "execute_result"
    }
   ],
   "source": [
    "df_1 = pd.DataFrame({'key':list(ds.keys())})\n",
    "df_1"
   ]
  },
  {
   "cell_type": "code",
   "execution_count": 44,
   "metadata": {},
   "outputs": [
    {
     "data": {
      "text/html": [
       "<div>\n",
       "<style scoped>\n",
       "    .dataframe tbody tr th:only-of-type {\n",
       "        vertical-align: middle;\n",
       "    }\n",
       "\n",
       "    .dataframe tbody tr th {\n",
       "        vertical-align: top;\n",
       "    }\n",
       "\n",
       "    .dataframe thead th {\n",
       "        text-align: right;\n",
       "    }\n",
       "</style>\n",
       "<table border=\"1\" class=\"dataframe\">\n",
       "  <thead>\n",
       "    <tr style=\"text-align: right;\">\n",
       "      <th></th>\n",
       "      <th>key</th>\n",
       "    </tr>\n",
       "  </thead>\n",
       "  <tbody>\n",
       "    <tr>\n",
       "      <th>0</th>\n",
       "      <td>(0008, 0005)</td>\n",
       "    </tr>\n",
       "    <tr>\n",
       "      <th>1</th>\n",
       "      <td>(0008, 0008)</td>\n",
       "    </tr>\n",
       "    <tr>\n",
       "      <th>2</th>\n",
       "      <td>(0008, 0012)</td>\n",
       "    </tr>\n",
       "    <tr>\n",
       "      <th>3</th>\n",
       "      <td>(0008, 0013)</td>\n",
       "    </tr>\n",
       "    <tr>\n",
       "      <th>4</th>\n",
       "      <td>(0008, 0016)</td>\n",
       "    </tr>\n",
       "    <tr>\n",
       "      <th>...</th>\n",
       "      <td>...</td>\n",
       "    </tr>\n",
       "    <tr>\n",
       "      <th>83</th>\n",
       "      <td>(0040, 0244)</td>\n",
       "    </tr>\n",
       "    <tr>\n",
       "      <th>84</th>\n",
       "      <td>(0040, 0245)</td>\n",
       "    </tr>\n",
       "    <tr>\n",
       "      <th>85</th>\n",
       "      <td>(0040, 0253)</td>\n",
       "    </tr>\n",
       "    <tr>\n",
       "      <th>86</th>\n",
       "      <td>(0040, 0254)</td>\n",
       "    </tr>\n",
       "    <tr>\n",
       "      <th>87</th>\n",
       "      <td>(7fe0, 0010)</td>\n",
       "    </tr>\n",
       "  </tbody>\n",
       "</table>\n",
       "<p>88 rows × 1 columns</p>\n",
       "</div>"
      ],
      "text/plain": [
       "             key\n",
       "0   (0008, 0005)\n",
       "1   (0008, 0008)\n",
       "2   (0008, 0012)\n",
       "3   (0008, 0013)\n",
       "4   (0008, 0016)\n",
       "..           ...\n",
       "83  (0040, 0244)\n",
       "84  (0040, 0245)\n",
       "85  (0040, 0253)\n",
       "86  (0040, 0254)\n",
       "87  (7fe0, 0010)\n",
       "\n",
       "[88 rows x 1 columns]"
      ]
     },
     "execution_count": 44,
     "metadata": {},
     "output_type": "execute_result"
    }
   ],
   "source": [
    "df_1 = pd.DataFrame({'key': [str(k) for k in ds.keys()]})\n",
    "df_1"
   ]
  },
  {
   "cell_type": "markdown",
   "metadata": {},
   "source": [
    "## metadata转换为pandas dataframe"
   ]
  },
  {
   "cell_type": "code",
   "execution_count": 60,
   "metadata": {},
   "outputs": [],
   "source": [
    "def get_metadata(ds):\n",
    "    pass"
   ]
  },
  {
   "cell_type": "code",
   "execution_count": 76,
   "metadata": {},
   "outputs": [
    {
     "data": {
      "text/html": [
       "<div>\n",
       "<style scoped>\n",
       "    .dataframe tbody tr th:only-of-type {\n",
       "        vertical-align: middle;\n",
       "    }\n",
       "\n",
       "    .dataframe tbody tr th {\n",
       "        vertical-align: top;\n",
       "    }\n",
       "\n",
       "    .dataframe thead th {\n",
       "        text-align: right;\n",
       "    }\n",
       "</style>\n",
       "<table border=\"1\" class=\"dataframe\">\n",
       "  <thead>\n",
       "    <tr style=\"text-align: right;\">\n",
       "      <th></th>\n",
       "      <th>key</th>\n",
       "      <th>name</th>\n",
       "      <th>VR</th>\n",
       "      <th>VM</th>\n",
       "      <th>value</th>\n",
       "    </tr>\n",
       "  </thead>\n",
       "  <tbody>\n",
       "    <tr>\n",
       "      <th>0</th>\n",
       "      <td>(0008, 0005)</td>\n",
       "      <td>Specific Character Set</td>\n",
       "      <td>CS</td>\n",
       "      <td>1</td>\n",
       "      <td>ISO_IR 100</td>\n",
       "    </tr>\n",
       "    <tr>\n",
       "      <th>1</th>\n",
       "      <td>(0008, 0008)</td>\n",
       "      <td>Image Type</td>\n",
       "      <td>CS</td>\n",
       "      <td>4</td>\n",
       "      <td>[ORIGINAL, PRIMARY, AXIAL, HELIX]</td>\n",
       "    </tr>\n",
       "    <tr>\n",
       "      <th>2</th>\n",
       "      <td>(0008, 0012)</td>\n",
       "      <td>Instance Creation Date</td>\n",
       "      <td>DA</td>\n",
       "      <td>0</td>\n",
       "      <td></td>\n",
       "    </tr>\n",
       "    <tr>\n",
       "      <th>3</th>\n",
       "      <td>(0008, 0013)</td>\n",
       "      <td>Instance Creation Time</td>\n",
       "      <td>TM</td>\n",
       "      <td>0</td>\n",
       "      <td></td>\n",
       "    </tr>\n",
       "    <tr>\n",
       "      <th>4</th>\n",
       "      <td>(0008, 0016)</td>\n",
       "      <td>SOP Class UID</td>\n",
       "      <td>UI</td>\n",
       "      <td>1</td>\n",
       "      <td>1.2.840.10008.5.1.4.1.1.2</td>\n",
       "    </tr>\n",
       "  </tbody>\n",
       "</table>\n",
       "</div>"
      ],
      "text/plain": [
       "            key                    name  VR  VM  \\\n",
       "0  (0008, 0005)  Specific Character Set  CS   1   \n",
       "1  (0008, 0008)              Image Type  CS   4   \n",
       "2  (0008, 0012)  Instance Creation Date  DA   0   \n",
       "3  (0008, 0013)  Instance Creation Time  TM   0   \n",
       "4  (0008, 0016)           SOP Class UID  UI   1   \n",
       "\n",
       "                               value  \n",
       "0                         ISO_IR 100  \n",
       "1  [ORIGINAL, PRIMARY, AXIAL, HELIX]  \n",
       "2                                     \n",
       "3                                     \n",
       "4          1.2.840.10008.5.1.4.1.1.2  "
      ]
     },
     "execution_count": 76,
     "metadata": {},
     "output_type": "execute_result"
    }
   ],
   "source": [
    "ds = pydicom.read_file(input_file_name)\n",
    "# df = pd.DataFrame(ds.values())\n",
    "# df[0] = df[0].apply(lambda x: pydicom.dataelem.DataElement_from_raw(x) if isinstance(x, pydicom.dataelem.RawDataElement) else x)\n",
    "# df['name'] = df[0].apply(lambda x: x.name)\n",
    "# df['value'] = df[0].apply(lambda x: x.value)\n",
    "# df['VR'] = df[0].apply(lambda x: x.VR)\n",
    "# df['VM'] = df[0].apply(lambda x: x.VM)\n",
    "# df['key'] = [str(k) for k in ds.keys()]\n",
    "\n",
    "data_dict = {\n",
    "    'name': [],\n",
    "    'key': [],\n",
    "    'VR': [],\n",
    "    'VM': [],\n",
    "    'value': []\n",
    "}\n",
    "for k, v in ds.items():\n",
    "    data_dict['key'].append(str(k))\n",
    "    x = pydicom.dataelem.DataElement_from_raw(v) if isinstance(v, pydicom.dataelem.RawDataElement) else v\n",
    "    data_dict['name'].append(x.name)\n",
    "    data_dict['value'].append(x.value)\n",
    "    data_dict['VR'].append(x.VR)\n",
    "    data_dict['VM'].append(x.VM)\n",
    "df = pd.DataFrame(data_dict)\n",
    "df = df[['key', 'name', 'VR', 'VM', 'value']]\n",
    "df.head()"
   ]
  },
  {
   "cell_type": "code",
   "execution_count": 77,
   "metadata": {},
   "outputs": [
    {
     "data": {
      "text/html": [
       "<div>\n",
       "<style scoped>\n",
       "    .dataframe tbody tr th:only-of-type {\n",
       "        vertical-align: middle;\n",
       "    }\n",
       "\n",
       "    .dataframe tbody tr th {\n",
       "        vertical-align: top;\n",
       "    }\n",
       "\n",
       "    .dataframe thead th {\n",
       "        text-align: right;\n",
       "    }\n",
       "</style>\n",
       "<table border=\"1\" class=\"dataframe\">\n",
       "  <thead>\n",
       "    <tr style=\"text-align: right;\">\n",
       "      <th></th>\n",
       "      <th>key</th>\n",
       "      <th>name</th>\n",
       "      <th>VR</th>\n",
       "      <th>VM</th>\n",
       "      <th>value</th>\n",
       "    </tr>\n",
       "  </thead>\n",
       "  <tbody>\n",
       "    <tr>\n",
       "      <th>83</th>\n",
       "      <td>(0040, 0244)</td>\n",
       "      <td>Performed Procedure Step Start Date</td>\n",
       "      <td>DA</td>\n",
       "      <td>0</td>\n",
       "      <td></td>\n",
       "    </tr>\n",
       "    <tr>\n",
       "      <th>84</th>\n",
       "      <td>(0040, 0245)</td>\n",
       "      <td>Performed Procedure Step Start Time</td>\n",
       "      <td>TM</td>\n",
       "      <td>0</td>\n",
       "      <td></td>\n",
       "    </tr>\n",
       "    <tr>\n",
       "      <th>85</th>\n",
       "      <td>(0040, 0253)</td>\n",
       "      <td>Performed Procedure Step ID</td>\n",
       "      <td>SH</td>\n",
       "      <td>0</td>\n",
       "      <td></td>\n",
       "    </tr>\n",
       "    <tr>\n",
       "      <th>86</th>\n",
       "      <td>(0040, 0254)</td>\n",
       "      <td>Performed Procedure Step Description</td>\n",
       "      <td>LO</td>\n",
       "      <td>0</td>\n",
       "      <td></td>\n",
       "    </tr>\n",
       "    <tr>\n",
       "      <th>87</th>\n",
       "      <td>(7fe0, 0010)</td>\n",
       "      <td>Pixel Data</td>\n",
       "      <td>OB or OW</td>\n",
       "      <td>1</td>\n",
       "      <td>b'\\x00\\x00\\x00\\x00\\x00\\x00\\x00\\x00\\x00\\x00\\x00...</td>\n",
       "    </tr>\n",
       "  </tbody>\n",
       "</table>\n",
       "</div>"
      ],
      "text/plain": [
       "             key                                  name        VR  VM  \\\n",
       "83  (0040, 0244)   Performed Procedure Step Start Date        DA   0   \n",
       "84  (0040, 0245)   Performed Procedure Step Start Time        TM   0   \n",
       "85  (0040, 0253)           Performed Procedure Step ID        SH   0   \n",
       "86  (0040, 0254)  Performed Procedure Step Description        LO   0   \n",
       "87  (7fe0, 0010)                            Pixel Data  OB or OW   1   \n",
       "\n",
       "                                                value  \n",
       "83                                                     \n",
       "84                                                     \n",
       "85                                                     \n",
       "86                                                     \n",
       "87  b'\\x00\\x00\\x00\\x00\\x00\\x00\\x00\\x00\\x00\\x00\\x00...  "
      ]
     },
     "execution_count": 77,
     "metadata": {},
     "output_type": "execute_result"
    }
   ],
   "source": [
    "df.tail()"
   ]
  },
  {
   "cell_type": "code",
   "execution_count": 78,
   "metadata": {},
   "outputs": [
    {
     "data": {
      "text/plain": [
       "Index(['key', 'name', 'VR', 'VM', 'value'], dtype='object')"
      ]
     },
     "execution_count": 78,
     "metadata": {},
     "output_type": "execute_result"
    }
   ],
   "source": [
    "df.columns"
   ]
  },
  {
   "cell_type": "code",
   "execution_count": 79,
   "metadata": {},
   "outputs": [
    {
     "data": {
      "text/plain": [
       "{'key': {0: '(0008, 0005)',\n",
       "  1: '(0008, 0008)',\n",
       "  2: '(0008, 0012)',\n",
       "  3: '(0008, 0013)',\n",
       "  4: '(0008, 0016)'},\n",
       " 'name': {0: 'Specific Character Set',\n",
       "  1: 'Image Type',\n",
       "  2: 'Instance Creation Date',\n",
       "  3: 'Instance Creation Time',\n",
       "  4: 'SOP Class UID'},\n",
       " 'VR': {0: 'CS', 1: 'CS', 2: 'DA', 3: 'TM', 4: 'UI'},\n",
       " 'VM': {0: 1, 1: 4, 2: 0, 3: 0, 4: 1},\n",
       " 'value': {0: 'ISO_IR 100',\n",
       "  1: ['ORIGINAL', 'PRIMARY', 'AXIAL', 'HELIX'],\n",
       "  2: '',\n",
       "  3: '',\n",
       "  4: '1.2.840.10008.5.1.4.1.1.2'}}"
      ]
     },
     "execution_count": 79,
     "metadata": {},
     "output_type": "execute_result"
    }
   ],
   "source": [
    "df.head().to_dict()"
   ]
  },
  {
   "cell_type": "code",
   "execution_count": 72,
   "metadata": {},
   "outputs": [
    {
     "data": {
      "text/html": [
       "<div>\n",
       "<style scoped>\n",
       "    .dataframe tbody tr th:only-of-type {\n",
       "        vertical-align: middle;\n",
       "    }\n",
       "\n",
       "    .dataframe tbody tr th {\n",
       "        vertical-align: top;\n",
       "    }\n",
       "\n",
       "    .dataframe thead th {\n",
       "        text-align: right;\n",
       "    }\n",
       "</style>\n",
       "<table border=\"1\" class=\"dataframe\">\n",
       "  <thead>\n",
       "    <tr style=\"text-align: right;\">\n",
       "      <th></th>\n",
       "      <th>State</th>\n",
       "      <th>Number of Solar Plants</th>\n",
       "      <th>Installed Capacity (MW)</th>\n",
       "      <th>Average MW Per Plant</th>\n",
       "      <th>Generation (GWh)</th>\n",
       "    </tr>\n",
       "  </thead>\n",
       "  <tbody>\n",
       "    <tr>\n",
       "      <th>0</th>\n",
       "      <td>California</td>\n",
       "      <td>289</td>\n",
       "      <td>4395</td>\n",
       "      <td>15.3</td>\n",
       "      <td>10826</td>\n",
       "    </tr>\n",
       "    <tr>\n",
       "      <th>1</th>\n",
       "      <td>Arizona</td>\n",
       "      <td>48</td>\n",
       "      <td>1078</td>\n",
       "      <td>22.5</td>\n",
       "      <td>2550</td>\n",
       "    </tr>\n",
       "    <tr>\n",
       "      <th>2</th>\n",
       "      <td>Nevada</td>\n",
       "      <td>11</td>\n",
       "      <td>238</td>\n",
       "      <td>21.6</td>\n",
       "      <td>557</td>\n",
       "    </tr>\n",
       "    <tr>\n",
       "      <th>3</th>\n",
       "      <td>New Mexico</td>\n",
       "      <td>33</td>\n",
       "      <td>261</td>\n",
       "      <td>7.9</td>\n",
       "      <td>590</td>\n",
       "    </tr>\n",
       "    <tr>\n",
       "      <th>4</th>\n",
       "      <td>Colorado</td>\n",
       "      <td>20</td>\n",
       "      <td>118</td>\n",
       "      <td>5.9</td>\n",
       "      <td>235</td>\n",
       "    </tr>\n",
       "    <tr>\n",
       "      <th>5</th>\n",
       "      <td>Texas</td>\n",
       "      <td>12</td>\n",
       "      <td>187</td>\n",
       "      <td>15.6</td>\n",
       "      <td>354</td>\n",
       "    </tr>\n",
       "    <tr>\n",
       "      <th>6</th>\n",
       "      <td>North Carolina</td>\n",
       "      <td>148</td>\n",
       "      <td>669</td>\n",
       "      <td>4.5</td>\n",
       "      <td>1162</td>\n",
       "    </tr>\n",
       "    <tr>\n",
       "      <th>7</th>\n",
       "      <td>New York</td>\n",
       "      <td>13</td>\n",
       "      <td>53</td>\n",
       "      <td>4.1</td>\n",
       "      <td>84</td>\n",
       "    </tr>\n",
       "  </tbody>\n",
       "</table>\n",
       "</div>"
      ],
      "text/plain": [
       "            State  Number of Solar Plants  Installed Capacity (MW)  \\\n",
       "0      California                     289                     4395   \n",
       "1         Arizona                      48                     1078   \n",
       "2          Nevada                      11                      238   \n",
       "3      New Mexico                      33                      261   \n",
       "4        Colorado                      20                      118   \n",
       "5           Texas                      12                      187   \n",
       "6  North Carolina                     148                      669   \n",
       "7        New York                      13                       53   \n",
       "\n",
       "   Average MW Per Plant  Generation (GWh)  \n",
       "0                  15.3             10826  \n",
       "1                  22.5              2550  \n",
       "2                  21.6               557  \n",
       "3                   7.9               590  \n",
       "4                   5.9               235  \n",
       "5                  15.6               354  \n",
       "6                   4.5              1162  \n",
       "7                   4.1                84  "
      ]
     },
     "execution_count": 72,
     "metadata": {},
     "output_type": "execute_result"
    }
   ],
   "source": [
    "solar = pd.read_csv('solar.csv')\n",
    "solar"
   ]
  },
  {
   "cell_type": "code",
   "execution_count": 73,
   "metadata": {},
   "outputs": [
    {
     "data": {
      "text/plain": [
       "{'State': {0: 'California',\n",
       "  1: 'Arizona',\n",
       "  2: 'Nevada',\n",
       "  3: 'New Mexico',\n",
       "  4: 'Colorado',\n",
       "  5: 'Texas',\n",
       "  6: 'North Carolina',\n",
       "  7: 'New York'},\n",
       " 'Number of Solar Plants': {0: 289,\n",
       "  1: 48,\n",
       "  2: 11,\n",
       "  3: 33,\n",
       "  4: 20,\n",
       "  5: 12,\n",
       "  6: 148,\n",
       "  7: 13},\n",
       " 'Installed Capacity (MW)': {0: 4395,\n",
       "  1: 1078,\n",
       "  2: 238,\n",
       "  3: 261,\n",
       "  4: 118,\n",
       "  5: 187,\n",
       "  6: 669,\n",
       "  7: 53},\n",
       " 'Average MW Per Plant': {0: 15.3,\n",
       "  1: 22.5,\n",
       "  2: 21.6,\n",
       "  3: 7.9,\n",
       "  4: 5.9,\n",
       "  5: 15.6,\n",
       "  6: 4.5,\n",
       "  7: 4.1},\n",
       " 'Generation (GWh)': {0: 10826,\n",
       "  1: 2550,\n",
       "  2: 557,\n",
       "  3: 590,\n",
       "  4: 235,\n",
       "  5: 354,\n",
       "  6: 1162,\n",
       "  7: 84}}"
      ]
     },
     "execution_count": 73,
     "metadata": {},
     "output_type": "execute_result"
    }
   ],
   "source": [
    "solar.to_dict()"
   ]
  },
  {
   "cell_type": "code",
   "execution_count": 74,
   "metadata": {},
   "outputs": [
    {
     "data": {
      "text/plain": [
       "[{'State': 'California',\n",
       "  'Number of Solar Plants': 289,\n",
       "  'Installed Capacity (MW)': 4395,\n",
       "  'Average MW Per Plant': 15.3,\n",
       "  'Generation (GWh)': 10826},\n",
       " {'State': 'Arizona',\n",
       "  'Number of Solar Plants': 48,\n",
       "  'Installed Capacity (MW)': 1078,\n",
       "  'Average MW Per Plant': 22.5,\n",
       "  'Generation (GWh)': 2550},\n",
       " {'State': 'Nevada',\n",
       "  'Number of Solar Plants': 11,\n",
       "  'Installed Capacity (MW)': 238,\n",
       "  'Average MW Per Plant': 21.6,\n",
       "  'Generation (GWh)': 557},\n",
       " {'State': 'New Mexico',\n",
       "  'Number of Solar Plants': 33,\n",
       "  'Installed Capacity (MW)': 261,\n",
       "  'Average MW Per Plant': 7.9,\n",
       "  'Generation (GWh)': 590},\n",
       " {'State': 'Colorado',\n",
       "  'Number of Solar Plants': 20,\n",
       "  'Installed Capacity (MW)': 118,\n",
       "  'Average MW Per Plant': 5.9,\n",
       "  'Generation (GWh)': 235},\n",
       " {'State': 'Texas',\n",
       "  'Number of Solar Plants': 12,\n",
       "  'Installed Capacity (MW)': 187,\n",
       "  'Average MW Per Plant': 15.6,\n",
       "  'Generation (GWh)': 354},\n",
       " {'State': 'North Carolina',\n",
       "  'Number of Solar Plants': 148,\n",
       "  'Installed Capacity (MW)': 669,\n",
       "  'Average MW Per Plant': 4.5,\n",
       "  'Generation (GWh)': 1162},\n",
       " {'State': 'New York',\n",
       "  'Number of Solar Plants': 13,\n",
       "  'Installed Capacity (MW)': 53,\n",
       "  'Average MW Per Plant': 4.1,\n",
       "  'Generation (GWh)': 84}]"
      ]
     },
     "execution_count": 74,
     "metadata": {},
     "output_type": "execute_result"
    }
   ],
   "source": [
    "solar.to_dict('records')"
   ]
  },
  {
   "cell_type": "code",
   "execution_count": 81,
   "metadata": {},
   "outputs": [
    {
     "data": {
      "text/plain": [
       "[{'key': '(0008, 0005)',\n",
       "  'name': 'Specific Character Set',\n",
       "  'VR': 'CS',\n",
       "  'VM': 1,\n",
       "  'value': 'ISO_IR 100'},\n",
       " {'key': '(0008, 0008)',\n",
       "  'name': 'Image Type',\n",
       "  'VR': 'CS',\n",
       "  'VM': 4,\n",
       "  'value': ['ORIGINAL', 'PRIMARY', 'AXIAL', 'HELIX']},\n",
       " {'key': '(0008, 0012)',\n",
       "  'name': 'Instance Creation Date',\n",
       "  'VR': 'DA',\n",
       "  'VM': 0,\n",
       "  'value': ''},\n",
       " {'key': '(0008, 0013)',\n",
       "  'name': 'Instance Creation Time',\n",
       "  'VR': 'TM',\n",
       "  'VM': 0,\n",
       "  'value': ''},\n",
       " {'key': '(0008, 0016)',\n",
       "  'name': 'SOP Class UID',\n",
       "  'VR': 'UI',\n",
       "  'VM': 1,\n",
       "  'value': '1.2.840.10008.5.1.4.1.1.2'}]"
      ]
     },
     "execution_count": 81,
     "metadata": {},
     "output_type": "execute_result"
    }
   ],
   "source": [
    "df.head().to_dict('records')"
   ]
  },
  {
   "cell_type": "code",
   "execution_count": 82,
   "metadata": {},
   "outputs": [],
   "source": [
    "df.to_csv('dicom_sample_metadata.csv', index=False)"
   ]
  },
  {
   "cell_type": "code",
   "execution_count": null,
   "metadata": {},
   "outputs": [],
   "source": []
  }
 ],
 "metadata": {
  "kernelspec": {
   "display_name": "torch_env",
   "language": "python",
   "name": "myenv"
  },
  "language_info": {
   "codemirror_mode": {
    "name": "ipython",
    "version": 3
   },
   "file_extension": ".py",
   "mimetype": "text/x-python",
   "name": "python",
   "nbconvert_exporter": "python",
   "pygments_lexer": "ipython3",
   "version": "3.7.7"
  }
 },
 "nbformat": 4,
 "nbformat_minor": 4
}
